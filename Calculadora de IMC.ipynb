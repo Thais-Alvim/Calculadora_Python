{
 "cells": [
  {
   "cell_type": "markdown",
   "id": "9f1aedfb",
   "metadata": {},
   "source": [
    "# Oficina Microlearning 2 \n",
    "\n",
    "\n",
    "*Antes do ínicio do desenvolvimento do código foi realizado um fluxograma(1) no Draw.io. O código foi construído com base nos termos de conhecimento do curso da Dell. Com a problemática da saída retornar um número com várias casas decimais, foi usado o Round, o Replace para caso o usuário coloque vírgula ao invés de ponto e para complementar um pouco mais o código, pesquisei também sobre IF/ELSE para retornar ao usuário um dado mais completo do seu IMC.*"
   ]
  },
  {
   "cell_type": "markdown",
   "id": "36a5d632",
   "metadata": {},
   "source": [
    "*Fluxograma(01)*\n",
    "\n",
    "https://viewer.diagrams.net/?highlight=0000ff&edit=_blank&layers=1&nav=1#R5VfBctowEP0aH9uxZGPCkdCkZZJ0mHLoNDdhb2zNyJZHlgPk6ytjycaIBEKhPnBi%2FbRaSe%2FtroTjTdLVd0Hy5IlHwBzsRivH%2B%2BZgjFyM1E%2BFrGtkgEc1EAsaaacWmNM3MDM1WtIIio6j5JxJmnfBkGcZhLKDESH4suv2wll31ZzEYAHzkDAb%2FU0jmdToDR62%2BA%2BgcWJWRoE%2BX0qMsz5JkZCIL7cg787xJoJzWVvpagKsIs%2FwUs%2B7f2e02ZiATB4z4SF4RqWfPT7j8VvyME3Zr%2BGfLzrKK2GlPvA0oyHlestybXgQvMwiqEIhx7tdJlTCPCdhNbpUyisskSnTwzooCAmrd3eLGg5U8gBPQYq1cjETAk2bzhtPfy5bEZBhNtkSwEwjWve4idxSowzNzieYwhZTFkeQReMq5dRXyEhR0HAfLRBZGXeQlK1TD%2FYc2mACGJH0tRt%2BHxN6hRmnauGGc4xGXwcd1kc7bBa8FCHoadu5thsJd9VrpDKBJBExSCvQRpnm3KeL5Vli%2FVQxNxK4Myh4bTk4YIrB24VQVlxZYyZLQSxhVenmlamUIowB47EgqXLPQVC1VRC7Y7N24FCtvNAVmL53odpp2O%2BtePxrLB50c2r1WKGa9vef6mdg6TUhLCwZUZXiTp8mH1wPbi%2FXQ%2F%2F3Q3CNKX76BWGF8vzjUlwxSNZbbnnlUHxm0173oaSMOuZZK2hopcO%2BsjEXS8TDMt2IfKh2FnWhPS4u%2Bdbyjyym3QZ3tmIaWezd0%2FSDptPPm9QP%2Bm466CpfpT46W9fxd6W5WNfx%2FX%2FqOuqz%2FatYu7d%2FuL27vw%3D%3D"
   ]
  },
  {
   "cell_type": "code",
   "execution_count": null,
   "id": "6df3bbd2",
   "metadata": {},
   "outputs": [],
   "source": [
    "print ('Calculadora de IMC')\n",
    "name_user = str (input ('Digite seu nome:'))\n",
    "weight_user = float (input ('Digite seu peso:').replace(',','.'))\n",
    "height_user = float (input ('Digite sua altura:').replace(',','.'))\n",
    "imc= height_squared = height_user * height_user\n",
    "imc = weight_user / height_squared\n",
    "imcRoundNumber = round(imc, 2)\n",
    "print (name_user +' seu IMC é igual a ' + str(imcRoundNumber))\n",
    "if imcRoundNumber <18.5:\n",
    "    print ('Faixa de Peso:Abaixo do Peso')\n",
    "elif imcRoundNumber ==18.5 or imcRoundNumber <=24.9:\n",
    "    print('Faixa de Peso:Normal')\n",
    "elif imcRoundNumber ==24.9 or imcRoundNumber <=29.9:\n",
    "    print('Faixa de Peso:Sobrepeso')\n",
    "elif imcRoundNumber ==30 or imcRoundNumber <=34.9:\n",
    "    print('Faixa de Peso:Obesidade Grau I')\n",
    "elif imcRoundNumber ==35 or imcRoundNumber <=39.9:\n",
    "    print('Faixa de Peso:Obesidade Grau II')\n",
    "elif imcRoundNumber >=40:\n",
    "    print('Faixa de Peso:Obesidade Grau III ou Mórbida')\n",
    "            \n",
    "    "
   ]
  },
  {
   "cell_type": "code",
   "execution_count": null,
   "id": "3f3d467f",
   "metadata": {},
   "outputs": [],
   "source": []
  }
 ],
 "metadata": {
  "kernelspec": {
   "display_name": "Python 3",
   "language": "python",
   "name": "python3"
  },
  "language_info": {
   "codemirror_mode": {
    "name": "ipython",
    "version": 3
   },
   "file_extension": ".py",
   "mimetype": "text/x-python",
   "name": "python",
   "nbconvert_exporter": "python",
   "pygments_lexer": "ipython3",
   "version": "3.8.8"
  }
 },
 "nbformat": 4,
 "nbformat_minor": 5
}
